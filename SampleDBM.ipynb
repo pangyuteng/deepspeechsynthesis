{
 "metadata": {
  "name": "Sample DBM"
 },
 "nbformat": 3,
 "nbformat_minor": 0,
 "worksheets": [
  {
   "cells": [
    {
     "cell_type": "code",
     "collapsed": false,
     "input": "#!/usr/bin/env python\n__authors__ = \"Ian Goodfellow\"\n__copyright__ = \"Copyright 2012, Universite de Montreal\"\n__credits__ = [\"Ian Goodfellow\"]\n__license__ = \"3-clause BSD\"\n__maintainer__ = \"Ian Goodfellow\"\n\"\"\"\n\nUsage: python show_samples <path_to_a_saved_DBM.pkl>\nDisplays a batch of data from the DBM's training set.\nThen interactively allows the user to run Gibbs steps\nstarting from that seed data to see how the DBM's MCMC\nsampling changes the data.\n\n\"\"\"\n\nfrom pylearn2.utils import serial\nimport sys\nfrom pylearn2.config import yaml_parse\nfrom pylearn2.gui.patch_viewer import PatchViewer\nimport time\nfrom theano import function\nfrom theano.sandbox.rng_mrg import MRG_RandomStreams\nimport numpy as np\nfrom pylearn2.expr.basic import is_binary\nimport scipy.io.wavfile",
     "language": "python",
     "metadata": {},
     "outputs": [],
     "prompt_number": 1
    },
    {
     "cell_type": "code",
     "collapsed": false,
     "input": "rows = 10\ncols = 10\nm = rows * cols\n\nmodel_path = 'timit_gdbm_pcd.pkl'\n\nprint 'Loading model...'\nmodel = serial.load(model_path)\nmodel.set_batch_size(m)\n\n\ndataset_yaml_src = model.dataset_yaml_src\n\nprint 'Loading data (used for setting up visualization and seeding gibbs chain) ...'\ndataset = yaml_parse.load(dataset_yaml_src)",
     "language": "python",
     "metadata": {},
     "outputs": [
      {
       "output_type": "stream",
       "stream": "stdout",
       "text": "Loading model...\nLoading data (used for setting up visualization and seeding gibbs chain) ..."
      },
      {
       "output_type": "stream",
       "stream": "stdout",
       "text": "\n"
      }
     ],
     "prompt_number": 2
    },
    {
     "cell_type": "code",
     "collapsed": false,
     "input": "# vis_batch = dataset.get_batch_topo(m)\n\n# _, patch_rows, patch_cols, channels = vis_batch.shape\n\n# assert _ == m\n\n# mapback = hasattr(dataset, 'mapback_for_viewer')\n\n# pv = PatchViewer((rows,cols*(1+mapback)), (patch_rows,patch_cols), is_color = (channels==3))\n\n# def show():\n#     display_batch = dataset.adjust_for_viewer(vis_batch)\n#     if display_batch.ndim == 2:\n#         display_batch = dataset.get_topological_view(display_batch)\n#     if mapback:\n#         design_vis_batch = vis_batch\n#         if design_vis_batch.ndim != 2:\n#             design_vis_batch = dataset.get_design_matrix(design_vis_batch)\n#         mapped_batch_design = dataset.mapback_for_viewer(design_vis_batch)\n#         mapped_batch = dataset.get_topological_view(mapped_batch_design)\n#     for i in xrange(rows):\n#         row_start = cols * i\n#         for j in xrange(cols):\n#             pv.add_patch(display_batch[row_start+j,:,:,:], rescale = False)\n#             if mapback:\n#                 pv.add_patch(mapped_batch[row_start+j,:,:,:], rescale = False)\n#     pv.show()\n\n\nif hasattr(model.visible_layer, 'beta'):\n    beta = model.visible_layer.beta.get_value()\n# #model.visible_layer.beta.set_value(beta * 100.)\n#     print 'beta: ',(beta.min(), beta.mean(), beta.max())\n\n# print 'showing seed data...'\n# show()\n\n# print 'How many Gibbs steps should I run with the seed data clamped? (negative = ignore seed data) '\n# x = int(input())\nx=15\n\n\n# Make shared variables representing the sampling state of the model\nlayer_to_state = model.make_layer_to_state(m)\n# Seed the sampling with the data batch\nvis_sample = layer_to_state[model.visible_layer]\n\ndef validate_all_samples():\n    # Run some checks on the samples, this should help catch any bugs\n    layers = [ model.visible_layer ] + model.hidden_layers\n\n    def check_batch_size(l):\n        if isinstance(l, (list, tuple)):\n            map(check_batch_size, l)\n        else:\n            assert l.get_value().shape[0] == m\n\n\n    for layer in layers:\n        state = layer_to_state[layer]\n        space = layer.get_total_state_space()\n        space.validate(state)\n        if 'DenseMaxPool' in str(type(layer)):\n            p, h = state\n            p = p.get_value()\n            h = h.get_value()\n            assert np.all(p == h)\n            assert is_binary(p)\n        if 'BinaryVisLayer' in str(type(layer)):\n            v = state.get_value()\n            assert is_binary(v)\n        if 'Softmax' in str(type(layer)):\n            y = state.get_value()\n            assert is_binary(y)\n            s = y.sum(axis=1)\n            assert np.all(s == 1 )\n        if 'Ising' in str(type(layer)):\n            s = state.get_value()\n            assert is_binary((s + 1.) / 2.)\n\n\n\nvalidate_all_samples()\n\n# if x >= 0:\n#     if vis_sample.ndim == 4:\n#         vis_sample.set_value(vis_batch)\n#     else:\n#         vis_sample.set_value(dataset.get_design_matrix(vis_batch))",
     "language": "python",
     "metadata": {},
     "outputs": [],
     "prompt_number": 5
    },
    {
     "cell_type": "code",
     "collapsed": false,
     "input": "validate_all_samples()\n\ntheano_rng = MRG_RandomStreams(2012+9+18)\n\nif x > 0:\n    sampling_updates = model.get_sampling_updates(layer_to_state, theano_rng,\n            layer_to_clamp = { model.visible_layer : True }, num_steps = x)\n\n    t1 = time.time()\n    sample_func = function([], updates=sampling_updates)\n    t2 = time.time()\n    print 'Clamped sampling function compilation took',t2-t1\n    sample_func()\n\n\n# Now compile the full sampling update\nsampling_updates = model.get_sampling_updates(layer_to_state, theano_rng)\nassert layer_to_state[model.visible_layer] in sampling_updates\n\nt1 = time.time()\nsample_func = function([], updates=sampling_updates)\nt2 = time.time()\n\nprint 'Sampling function compilation took',t2-t1\n\n# while True:\n#     print 'Displaying samples. How many steps to take next? (q to quit, ENTER=1)'\n#     while True:\n#         x = raw_input()\n#         print x\n#         if x == 'q':\n#             quit()\n#         if x == '':\n#             x = 1\n#             break\n#         else:\n#             try:\n#                 x = int(x)\n#                 break\n#             except:\n#                 print 'Invalid input, try again'",
     "language": "python",
     "metadata": {},
     "outputs": [
      {
       "output_type": "stream",
       "stream": "stdout",
       "text": "Clamped sampling function compilation took 2.19332385063\nSampling function compilation took"
      },
      {
       "output_type": "stream",
       "stream": "stdout",
       "text": " 12.7259421349\n"
      },
      {
       "output_type": "stream",
       "stream": "stderr",
       "text": "/usr/local/Cellar/python/2.7.6/Frameworks/Python.framework/Versions/2.7/lib/python2.7/site-packages/Theano-0.6.0-py2.7.egg/theano/sandbox/rng_mrg.py:1169: UserWarning: MRG_RandomStreams Can't determine #streams from size ((Elemwise{add,no_inplace}.0,)), guessing 60*256\n  nstreams = self.n_streams(size)\n"
      }
     ],
     "prompt_number": 6
    },
    {
     "cell_type": "code",
     "collapsed": false,
     "input": "print 'Displaying samples. How many steps to take next?'           \nx = raw_input()\nx = int(x)\nfor i in xrange(x):\n    print i\n    sample_func()\n\nvalidate_all_samples()\n\nvis_batch = vis_sample.get_value()\n    #show()\n\n#     if 'Softmax' in str(type(model.hidden_layers[-1])):\n#         state = layer_to_state[model.hidden_layers[-1]]\n#         value = state.get_value()\n#         y = np.argmax(value, axis=1)\n#         assert y.ndim == 1\n#         for i in xrange(0, y.shape[0], cols):\n#             print y[i:i+cols]",
     "language": "python",
     "metadata": {},
     "outputs": [
      {
       "output_type": "stream",
       "stream": "stdout",
       "text": "Displaying samples. How many steps to take next?\n"
      },
      {
       "name": "stdout",
       "output_type": "stream",
       "stream": "stdout",
       "text": "15\n"
      },
      {
       "output_type": "stream",
       "stream": "stdout",
       "text": "0\n1\n2\n3\n4\n5\n6\n7\n8\n9"
      },
      {
       "output_type": "stream",
       "stream": "stdout",
       "text": "\n10\n11\n12\n13\n14\n"
      }
     ],
     "prompt_number": 7
    },
    {
     "cell_type": "code",
     "collapsed": false,
     "input": "scipy.io.wavfile.write(\"vis_sample1F.wav\", 16000, vis_batch.flatten(order='F'))",
     "language": "python",
     "metadata": {},
     "outputs": [],
     "prompt_number": 9
    },
    {
     "cell_type": "code",
     "collapsed": false,
     "input": "    ",
     "language": "python",
     "metadata": {},
     "outputs": []
    }
   ],
   "metadata": {}
  }
 ]
}